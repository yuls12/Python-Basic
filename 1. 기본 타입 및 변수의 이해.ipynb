{
 "cells": [
  {
   "cell_type": "markdown",
   "metadata": {},
   "source": [
    "### 기본 데이터 타입\n",
    "* variable declaration & value assignment (변수 선언 및 값 할당)"
   ]
  },
  {
   "cell_type": "markdown",
   "metadata": {},
   "source": [
    "##### =  대입 연산자,  ==  비교 연산자 \n",
    " - 대입의 경우, 오른쪽의 수식이나 값을 evaluation(여기서는 계산이라는 의미로 사용) 한 뒤, \n",
    " - 왼쪽에 명시된 변수에 해당 값을 대입\n",
    " - 변수는 해당 값을 가지게 됨"
   ]
  },
  {
   "cell_type": "code",
   "execution_count": null,
   "metadata": {},
   "outputs": [],
   "source": []
  },
  {
   "cell_type": "markdown",
   "metadata": {},
   "source": [
    "#### **comment(주석)**\n",
    "  - 코드에서 #으로 시작하는 뒷 부분은 실행되지 않음\n",
    "  - python이 소스코드를 실행하면서 #를 만나면 무시\n",
    "  - 개발자(사람)가 보기 위한 용도로 사용"
   ]
  },
  {
   "cell_type": "code",
   "execution_count": null,
   "metadata": {},
   "outputs": [],
   "source": []
  },
  {
   "cell_type": "markdown",
   "metadata": {},
   "source": [
    "#### **print 함수**\n",
    "  - 함수란 특정 기능을 반복적으로 호출하여 사용가능한 코드블럭\n",
    "  - 해당 변수의 값을 출력\n",
    "  - , 로 여러 변수를 나열하면 한줄에 출력\n",
    "  - 기본적으로는 한칸 띄어쓰기 후 출력"
   ]
  },
  {
   "cell_type": "code",
   "execution_count": 1,
   "metadata": {
    "ExecuteTime": {
     "end_time": "2021-12-08T02:28:09.714900Z",
     "start_time": "2021-12-08T02:28:09.711825Z"
    }
   },
   "outputs": [
    {
     "name": "stdout",
     "output_type": "stream",
     "text": [
      "5\n"
     ]
    }
   ],
   "source": [
    "a = 5\n",
    "print(a)  # 5"
   ]
  },
  {
   "cell_type": "markdown",
   "metadata": {},
   "source": [
    "* **print함수 설정**\n",
    " - sep : 구분자, 각 출력할 변수 사이에서 구별하는 역할을 함\n",
    " - end : 마지막에 출력할 문자열"
   ]
  },
  {
   "cell_type": "code",
   "execution_count": 4,
   "metadata": {
    "ExecuteTime": {
     "end_time": "2021-12-08T02:29:27.427448Z",
     "start_time": "2021-12-08T02:29:27.424786Z"
    }
   },
   "outputs": [
    {
     "name": "stdout",
     "output_type": "stream",
     "text": [
      "Hello World\n",
      "Hello Python\n"
     ]
    }
   ],
   "source": [
    "print('Hello World', end='\\n')\n",
    "print('Hello Python')"
   ]
  },
  {
   "cell_type": "markdown",
   "metadata": {},
   "source": [
    "#### **변수 값 확인법**\n",
    " - print() 함수 사용\n",
    " - 변수 값을 코드의 마지막에 위치 시킨 후 실행\n",
    "   - 이 경우 output으로 변수의 값이 출력"
   ]
  },
  {
   "cell_type": "code",
   "execution_count": null,
   "metadata": {},
   "outputs": [],
   "source": []
  },
  {
   "cell_type": "markdown",
   "metadata": {},
   "source": [
    "#### **variable naming (변수 이름 규칙)**\n",
    "  - 숫자로 시작하는 이름을 제외하고 영문 대소문자, _, 숫자로 구성가능 \n",
    "  - 아래의 예제는 모두 valid한 변수 이름\n",
    "  - 일반적으로 해당 변수를 표현하고자 하는 정확하고 간결한 이름을 사용하는 것이 원칙\n",
    "    - 코드를 읽은 것을 더 쉽게 할 수 있음\n",
    "    - e.g) a = 1000의 경우보다 **student_num = 1000**로 명시한 것이 변수에 대한 이해가 빠름"
   ]
  },
  {
   "cell_type": "code",
   "execution_count": null,
   "metadata": {},
   "outputs": [],
   "source": []
  },
  {
   "cell_type": "markdown",
   "metadata": {},
   "source": [
    "* **invalid한 변수 이름의 예**\n",
    " - 숫자로 시작하면 안되는 이유는?"
   ]
  },
  {
   "cell_type": "code",
   "execution_count": 5,
   "metadata": {
    "ExecuteTime": {
     "end_time": "2021-12-08T02:29:59.612036Z",
     "start_time": "2021-12-08T02:29:59.609118Z"
    }
   },
   "outputs": [
    {
     "ename": "SyntaxError",
     "evalue": "invalid syntax (<ipython-input-5-408ef71abc57>, line 1)",
     "output_type": "error",
     "traceback": [
      "\u001b[0;36m  File \u001b[0;32m\"<ipython-input-5-408ef71abc57>\"\u001b[0;36m, line \u001b[0;32m1\u001b[0m\n\u001b[0;31m    50a = 'Hello'\u001b[0m\n\u001b[0m      ^\u001b[0m\n\u001b[0;31mSyntaxError\u001b[0m\u001b[0;31m:\u001b[0m invalid syntax\n"
     ]
    }
   ],
   "source": [
    "50a = 'Hello'"
   ]
  },
  {
   "cell_type": "markdown",
   "metadata": {},
   "source": [
    "#### **reserved keywords (예약어)**\n",
    "  - python에서 미리 선점하여 사용중인 키워드\n",
    "  - 변수, 함수, 클래스 등등의 사용자 정의 이름으로 사용할 수 없음"
   ]
  },
  {
   "cell_type": "code",
   "execution_count": null,
   "metadata": {},
   "outputs": [],
   "source": []
  },
  {
   "cell_type": "markdown",
   "metadata": {},
   "source": [
    "### 기본 데이터 타입 \n",
    "  - 정수 (int)\n",
    "  - 실수 (float)\n",
    "  - 문자열 (str)\n",
    "  - 불리언 (boolean)"
   ]
  },
  {
   "cell_type": "markdown",
   "metadata": {},
   "source": [
    "#### type 함수\n",
    " - 해당 변수, 값의 타입(type)을 알고자 할 때 사용"
   ]
  },
  {
   "cell_type": "code",
   "execution_count": 6,
   "metadata": {
    "ExecuteTime": {
     "end_time": "2021-12-08T02:31:08.747970Z",
     "start_time": "2021-12-08T02:31:08.742710Z"
    }
   },
   "outputs": [
    {
     "name": "stdout",
     "output_type": "stream",
     "text": [
      "<class 'int'> <class 'str'> <class 'float'>\n"
     ]
    }
   ],
   "source": [
    "a = 1 \n",
    "b = 'Hello'\n",
    "c = 1.5\n",
    "\n",
    "print(type(a), type(b), type(c))"
   ]
  },
  {
   "cell_type": "markdown",
   "metadata": {},
   "source": [
    "#### **None**\n",
    " - 아무런 값을 갖지 않을 때 사용\n",
    " - 일반적으로 변수가 초기값을 갖지 않게 하여 해당 변수를 생성할 때 사용\n",
    " - 기타 언어의 NULL, nil등과 같은 의미로 사용"
   ]
  },
  {
   "cell_type": "code",
   "execution_count": null,
   "metadata": {},
   "outputs": [],
   "source": []
  },
  {
   "cell_type": "markdown",
   "metadata": {},
   "source": [
    "#### **comparison operator(비교 연산자)** \n",
    "  - 프로그래밍에서는 비교를 할 경우, = 대신 **==**를 사용\n",
    "  - <, > (작다, 크다)\n",
    "  - <=, >= (작거나 같다, 크거나 같다)\n",
    "  - == 같다\n",
    "  - != 같지 않다\n",
    "  - 비교 연산자의 결과는 bool 타입"
   ]
  },
  {
   "cell_type": "code",
   "execution_count": null,
   "metadata": {},
   "outputs": [],
   "source": []
  },
  {
   "cell_type": "markdown",
   "metadata": {},
   "source": [
    "#### **numbers (숫자형 타입)**\n",
    " - 정수, 실수로 구성\n",
    " - 수학의 기본 연산자(가감승제) 사용 가능"
   ]
  },
  {
   "cell_type": "code",
   "execution_count": null,
   "metadata": {},
   "outputs": [],
   "source": []
  },
  {
   "cell_type": "markdown",
   "metadata": {},
   "source": [
    "#### **operator priorities (연산자 우선순위)**\n",
    "  - 기본적인 수학의 연산자와 동일\n",
    "  - 강제로 연산을 선수하기 위해선, 괄호()를 사용"
   ]
  },
  {
   "cell_type": "code",
   "execution_count": 7,
   "metadata": {
    "ExecuteTime": {
     "end_time": "2021-12-08T02:31:40.847330Z",
     "start_time": "2021-12-08T02:31:40.844329Z"
    }
   },
   "outputs": [
    {
     "name": "stdout",
     "output_type": "stream",
     "text": [
      "-4\n",
      "5\n"
     ]
    }
   ],
   "source": [
    "print(1 + 3 - 2 * 4)\n",
    "print(1 + (3 - 2) * 4)"
   ]
  },
  {
   "cell_type": "markdown",
   "metadata": {},
   "source": [
    "*  **연습문제** 다음의 각 a값을 출력 했을 때 결과는? \n"
   ]
  },
  {
   "cell_type": "code",
   "execution_count": 8,
   "metadata": {
    "ExecuteTime": {
     "end_time": "2021-12-08T02:31:43.352302Z",
     "start_time": "2021-12-08T02:31:43.349067Z"
    }
   },
   "outputs": [
    {
     "name": "stdout",
     "output_type": "stream",
     "text": [
      "9\n",
      "6\n",
      "9\n"
     ]
    }
   ],
   "source": [
    "a = 9\n",
    "print(a)\n",
    "print(a - 3)\n",
    "print(a)"
   ]
  },
  {
   "cell_type": "markdown",
   "metadata": {},
   "source": [
    "#### **expression evaluation & assignment (식평가 & 대입)**\n",
    " - 변수의 값이 변경되기 위해서는 =를 사용하여 대입이 발생하는 경우에만 해당"
   ]
  },
  {
   "cell_type": "code",
   "execution_count": null,
   "metadata": {},
   "outputs": [],
   "source": []
  }
 ],
 "metadata": {
  "kernelspec": {
   "display_name": "Python 3",
   "language": "python",
   "name": "python3"
  },
  "language_info": {
   "codemirror_mode": {
    "name": "ipython",
    "version": 3
   },
   "file_extension": ".py",
   "mimetype": "text/x-python",
   "name": "python",
   "nbconvert_exporter": "python",
   "pygments_lexer": "ipython3",
   "version": "3.8.6"
  },
  "toc": {
   "base_numbering": 1,
   "nav_menu": {},
   "number_sections": true,
   "sideBar": true,
   "skip_h1_title": false,
   "title_cell": "Table of Contents",
   "title_sidebar": "Contents",
   "toc_cell": false,
   "toc_position": {},
   "toc_section_display": true,
   "toc_window_display": false
  },
  "varInspector": {
   "cols": {
    "lenName": 16,
    "lenType": 16,
    "lenVar": 40
   },
   "kernels_config": {
    "python": {
     "delete_cmd_postfix": "",
     "delete_cmd_prefix": "del ",
     "library": "var_list.py",
     "varRefreshCmd": "print(var_dic_list())"
    },
    "r": {
     "delete_cmd_postfix": ") ",
     "delete_cmd_prefix": "rm(",
     "library": "var_list.r",
     "varRefreshCmd": "cat(var_dic_list()) "
    }
   },
   "types_to_exclude": [
    "module",
    "function",
    "builtin_function_or_method",
    "instance",
    "_Feature"
   ],
   "window_display": false
  }
 },
 "nbformat": 4,
 "nbformat_minor": 1
}
