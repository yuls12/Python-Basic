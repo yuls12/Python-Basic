{
 "cells": [
  {
   "cell_type": "markdown",
   "metadata": {},
   "source": [
    "### 정규표현식 \n",
    " - regular expression\n",
    " - 특정한 패턴과 일치하는 문자열를 '검색', '치환', '제거' 하는 기능을 지원\n",
    " - 정규표현식의 도움없이 패턴을 찾는 작업(Rule 기반)은 불완전 하거나, 작업의 cost가 높음\n",
    " - e.g) 이메일 형식 판별, 전화번호 형식 판별, 숫자로만 이루어진 문자열 등"
   ]
  },
  {
   "cell_type": "markdown",
   "metadata": {},
   "source": [
    "* **raw string**\n",
    " - 문자열 앞에 r이 붙으면 해당 문자열이 구성된 그대로 문자열로 변환"
   ]
  },
  {
   "cell_type": "code",
   "execution_count": 1,
   "metadata": {
    "ExecuteTime": {
     "end_time": "2021-12-19T05:15:27.685861Z",
     "start_time": "2021-12-19T05:15:27.680571Z"
    }
   },
   "outputs": [
    {
     "name": "stdout",
     "output_type": "stream",
     "text": [
      "aaaa\\naaaa\n"
     ]
    }
   ],
   "source": [
    "b_raw_str = r\"aaaa\\naaaa\"\n",
    "print(b_raw_str)"
   ]
  },
  {
   "cell_type": "markdown",
   "metadata": {},
   "source": [
    "#### **기본 패턴**\n",
    " - a, X, 9 등등 문자 하나하나의 character들은 정확히 해당 문자와 일치\n",
    "   - e.g) 패턴 test는 test 문자열과 일치\n",
    "   - 대소문자의 경우 기본적으로 구별하나, 구별하지 않도록 설정 가능\n",
    " - 몇몇 문자들에 대해서는 예외가 존재하는데, 이들은 틀별한 의미로 사용 됨\n",
    "   - . ^ $ * + ? { } [ ] \\ | ( )\n",
    " \n",
    " - . (마침표) - 어떤 한개의 character와 일치 (newline(엔터) 제외)\n",
    " \n",
    " - \\w - 문자 character와 일치 [a-zA-Z0-9_]\n",
    " - \\s - 공백문자와 일치\n",
    " - \\t, \\n, \\r - tab, newline, return\n",
    " - \\d - 숫자 character와 일치 [0-9]\n",
    " - ^ = 시작, $ = 끝 각각 문자열의 시작과 끝을 의미\n",
    " - \\가 붙으면 스페셜한 의미가 없어짐. 예를들어 \\\\.는 .자체를 의미 \\\\\\는 \\를 의미\n",
    " - 자세한 내용은 링크 참조 https://docs.python.org/3/library/re.html"
   ]
  },
  {
   "cell_type": "markdown",
   "metadata": {},
   "source": [
    "#### **search method**\n",
    " - 첫번째로 패턴을 찾으면 match 객체를 반환\n",
    " - 패턴을 찾지 못하면 None 반환"
   ]
  },
  {
   "cell_type": "code",
   "execution_count": 3,
   "metadata": {
    "ExecuteTime": {
     "end_time": "2022-01-03T12:33:04.909442Z",
     "start_time": "2022-01-03T12:33:04.905698Z"
    }
   },
   "outputs": [
    {
     "name": "stdout",
     "output_type": "stream",
     "text": [
      "0\n",
      "3\n",
      "abc\n"
     ]
    }
   ],
   "source": [
    "import re\n",
    "\n",
    "m = re.search(r'abc', 'abcdef')\n",
    "print(m.start())\n",
    "print(m.end())\n",
    "print(m.group())"
   ]
  },
  {
   "cell_type": "code",
   "execution_count": 5,
   "metadata": {
    "ExecuteTime": {
     "end_time": "2022-01-03T12:33:55.130620Z",
     "start_time": "2022-01-03T12:33:55.127435Z"
    }
   },
   "outputs": [
    {
     "name": "stdout",
     "output_type": "stream",
     "text": [
      "None\n"
     ]
    }
   ],
   "source": [
    "import re\n",
    "\n",
    "m = re.search(r'abc', '12abdef')\n",
    "print(m)"
   ]
  },
  {
   "cell_type": "code",
   "execution_count": 7,
   "metadata": {
    "ExecuteTime": {
     "end_time": "2022-01-03T12:34:43.010952Z",
     "start_time": "2022-01-03T12:34:43.006056Z"
    }
   },
   "outputs": [
    {
     "name": "stdout",
     "output_type": "stream",
     "text": [
      "<re.Match object; span=(0, 2), match='13'>\n",
      "0\n",
      "2\n",
      "13\n"
     ]
    }
   ],
   "source": [
    "m = re.search(r'\\d\\d', '134apple')\n",
    "print(m)\n",
    "print(m.start())\n",
    "print(m.end())\n",
    "print(m.group())"
   ]
  },
  {
   "cell_type": "code",
   "execution_count": 9,
   "metadata": {
    "ExecuteTime": {
     "end_time": "2022-01-03T12:35:47.755685Z",
     "start_time": "2022-01-03T12:35:47.748940Z"
    }
   },
   "outputs": [
    {
     "name": "stdout",
     "output_type": "stream",
     "text": [
      "<re.Match object; span=(1, 5), match='$@ap'>\n",
      "1\n",
      "5\n",
      "$@ap\n"
     ]
    }
   ],
   "source": [
    "m = re.search(r'..\\w\\w', '#$@apple')\n",
    "print(m)\n",
    "print(m.start())\n",
    "print(m.end())\n",
    "print(m.group())"
   ]
  },
  {
   "cell_type": "markdown",
   "metadata": {},
   "source": [
    "#### **metacharacters (메타 캐릭터)**"
   ]
  },
  {
   "cell_type": "markdown",
   "metadata": {},
   "source": [
    "#### **[]** 문자들의 범위를 나타내기 위해 사용\n",
    "   - [] 내부의 메타 캐릭터는 캐릭터 자체를 나타냄\n",
    "   - e.g)\n",
    "   - [abck] : a or b or c or k\n",
    "   - [abc.^] : a or b or c or . or ^\n",
    "   - [a-d]  : -와 함께 사용되면 해당 문자 사이의 범위에 속하는 문자 중 하나\n",
    "   - [0-9]  : 모든 숫자\n",
    "   - [a-z]  : 모든 소문자\n",
    "   - [A-Z]  : 모든 대문자\n",
    "   - [a-zA-Z0-9] : 모든 알파벳 문자 및 숫자\n",
    "   - [^0-9] : ^가 맨 앞에 사용 되는 경우 해당 문자 패턴이 아닌 것과 매칭"
   ]
  },
  {
   "cell_type": "code",
   "execution_count": 10,
   "metadata": {
    "ExecuteTime": {
     "end_time": "2022-01-03T12:36:52.641868Z",
     "start_time": "2022-01-03T12:36:52.638738Z"
    }
   },
   "outputs": [
    {
     "name": "stdout",
     "output_type": "stream",
     "text": [
      "<re.Match object; span=(0, 3), match='cat'>\n"
     ]
    }
   ],
   "source": [
    "import re\n",
    "\n",
    "m = re.search(r'[cbm]at', 'cat' )\n",
    "print(m)"
   ]
  },
  {
   "cell_type": "code",
   "execution_count": 12,
   "metadata": {
    "ExecuteTime": {
     "end_time": "2022-01-03T12:38:22.411580Z",
     "start_time": "2022-01-03T12:38:22.408643Z"
    }
   },
   "outputs": [
    {
     "name": "stdout",
     "output_type": "stream",
     "text": [
      "<re.Match object; span=(0, 3), match='1ha'>\n"
     ]
    }
   ],
   "source": [
    "m = re.search(r'[0-9]ha', '1ha' )\n",
    "print(m)"
   ]
  },
  {
   "cell_type": "code",
   "execution_count": 13,
   "metadata": {
    "ExecuteTime": {
     "end_time": "2022-01-03T12:39:35.957121Z",
     "start_time": "2022-01-03T12:39:35.953886Z"
    }
   },
   "outputs": [
    {
     "name": "stdout",
     "output_type": "stream",
     "text": [
      "<re.Match object; span=(0, 5), match='^aron'>\n"
     ]
    }
   ],
   "source": [
    "m = re.search(r'[abc.^]aron', '^aron' )\n",
    "print(m)"
   ]
  },
  {
   "cell_type": "code",
   "execution_count": 14,
   "metadata": {
    "ExecuteTime": {
     "end_time": "2022-01-03T12:39:58.766245Z",
     "start_time": "2022-01-03T12:39:58.763211Z"
    }
   },
   "outputs": [
    {
     "name": "stdout",
     "output_type": "stream",
     "text": [
      "None\n"
     ]
    }
   ],
   "source": [
    "m = re.search(r'[^abc]aron', 'caron' )\n",
    "print(m)"
   ]
  },
  {
   "cell_type": "markdown",
   "metadata": {},
   "source": [
    "#### **\\** \n",
    " 1. 다른 문자와 함께 사용되어 특수한 의미를 지님\n",
    "   - \\d : 숫자를          [0-9]와 동일\n",
    "   - \\D : 숫자가 아닌 문자  [^0-9]와 동일\n",
    "   - \\s : 공백 문자(띄어쓰기, 탭, 엔터 등)\n",
    "   - \\S : 공백이 아닌 문자\n",
    "   - \\w : 알파벳대소문자, 숫자 [0-9a-zA-Z]와 동일\n",
    "   - \\W : non alpha-numeric 문자 [^0-9a-zA-Z]와 동일\n",
    " 2. 메타 캐릭터가 캐릭터 자체를 표현하도록 할 경우 사용\n",
    "   - \\\\. , \\\\\\\n"
   ]
  },
  {
   "cell_type": "code",
   "execution_count": 15,
   "metadata": {
    "ExecuteTime": {
     "end_time": "2022-01-03T12:41:18.373139Z",
     "start_time": "2022-01-03T12:41:18.369683Z"
    }
   },
   "outputs": [
    {
     "name": "stdout",
     "output_type": "stream",
     "text": [
      "<re.Match object; span=(2, 5), match=' ha'>\n"
     ]
    }
   ],
   "source": [
    "m = re.search(r'\\sha', 'ha ha' )\n",
    "print(m)"
   ]
  },
  {
   "cell_type": "markdown",
   "metadata": {},
   "source": [
    "#### **.** \n",
    " - 모든 문자를 의미"
   ]
  },
  {
   "cell_type": "code",
   "execution_count": 16,
   "metadata": {
    "ExecuteTime": {
     "end_time": "2022-01-03T12:42:35.510946Z",
     "start_time": "2022-01-03T12:42:35.505132Z"
    }
   },
   "outputs": [
    {
     "data": {
      "text/plain": [
       "<re.Match object; span=(0, 3), match='pig'>"
      ]
     },
     "execution_count": 16,
     "metadata": {},
     "output_type": "execute_result"
    }
   ],
   "source": [
    "re.search(r'p.g', 'pig')"
   ]
  },
  {
   "cell_type": "markdown",
   "metadata": {},
   "source": [
    "#### **반복패턴**\n",
    " - 패턴 뒤에 위치하는 *, +, ?는 해당 패턴이 반복적으로 존재하는지 검사 \n",
    "   - '+' -> 1번 이상의 패턴이 발생\n",
    "   - '*' -> 0번 이상의 패턴이 발생\n",
    "   - '?' -> 0 혹은 1번의 패턴이 발생\n",
    " - 반복을 패턴의 경우 greedy하게 검색 함, 즉 가능한 많은 부분이 매칭되도록 함\n",
    "  - e.g) a[bcd]*b  패턴을 abcbdccb에서 검색하는 경우\n",
    "    - ab, abcb, abcbdccb 전부 가능 하지만 최대한 많은 부분이 매칭된 abcbdccb가 검색된 패턴"
   ]
  },
  {
   "cell_type": "code",
   "execution_count": 17,
   "metadata": {
    "ExecuteTime": {
     "end_time": "2022-01-03T12:43:57.294918Z",
     "start_time": "2022-01-03T12:43:57.290791Z"
    }
   },
   "outputs": [
    {
     "data": {
      "text/plain": [
       "<re.Match object; span=(0, 5), match='abcbd'>"
      ]
     },
     "execution_count": 17,
     "metadata": {},
     "output_type": "execute_result"
    }
   ],
   "source": [
    "re.search(r'a[bcd]*d','abcbdfe')"
   ]
  },
  {
   "cell_type": "code",
   "execution_count": 18,
   "metadata": {
    "ExecuteTime": {
     "end_time": "2022-01-03T12:46:12.826301Z",
     "start_time": "2022-01-03T12:46:12.821370Z"
    }
   },
   "outputs": [
    {
     "data": {
      "text/plain": [
       "<re.Match object; span=(1, 3), match='ii'>"
      ]
     },
     "execution_count": 18,
     "metadata": {},
     "output_type": "execute_result"
    }
   ],
   "source": [
    "re.search(r'i+', 'piigiii')"
   ]
  },
  {
   "cell_type": "code",
   "execution_count": 19,
   "metadata": {
    "ExecuteTime": {
     "end_time": "2022-01-03T12:46:35.990023Z",
     "start_time": "2022-01-03T12:46:35.985972Z"
    }
   },
   "outputs": [
    {
     "data": {
      "text/plain": [
       "<re.Match object; span=(0, 4), match='bana'>"
      ]
     },
     "execution_count": 19,
     "metadata": {},
     "output_type": "execute_result"
    }
   ],
   "source": [
    "re.search(r'b\\w+a', 'banan')"
   ]
  },
  {
   "cell_type": "code",
   "execution_count": 20,
   "metadata": {
    "ExecuteTime": {
     "end_time": "2022-01-03T12:47:48.105516Z",
     "start_time": "2022-01-03T12:47:48.102710Z"
    }
   },
   "outputs": [],
   "source": [
    "re.search(r'pi+g', 'pg')"
   ]
  },
  {
   "cell_type": "code",
   "execution_count": 21,
   "metadata": {
    "ExecuteTime": {
     "end_time": "2022-01-03T12:47:56.982012Z",
     "start_time": "2022-01-03T12:47:56.975249Z"
    }
   },
   "outputs": [
    {
     "data": {
      "text/plain": [
       "<re.Match object; span=(0, 2), match='pg'>"
      ]
     },
     "execution_count": 21,
     "metadata": {},
     "output_type": "execute_result"
    }
   ],
   "source": [
    "re.search(r'pi*g', 'pg')"
   ]
  },
  {
   "cell_type": "code",
   "execution_count": 22,
   "metadata": {
    "ExecuteTime": {
     "end_time": "2022-01-03T12:48:32.695992Z",
     "start_time": "2022-01-03T12:48:32.690603Z"
    }
   },
   "outputs": [
    {
     "data": {
      "text/plain": [
       "<re.Match object; span=(0, 5), match='https'>"
      ]
     },
     "execution_count": 22,
     "metadata": {},
     "output_type": "execute_result"
    }
   ],
   "source": [
    "re.search(r'https?', 'https://www.naver.com')"
   ]
  },
  {
   "cell_type": "markdown",
   "metadata": {},
   "source": [
    "#### **^**, **$**\n",
    " - ^  문자열의 맨 앞부터 일치하는 경우 검색\n",
    " - \\$  문자열의 맨 뒤부터 일치하는 경우 검색"
   ]
  },
  {
   "cell_type": "code",
   "execution_count": 25,
   "metadata": {
    "ExecuteTime": {
     "end_time": "2022-01-03T12:50:02.982290Z",
     "start_time": "2022-01-03T12:50:02.978104Z"
    }
   },
   "outputs": [
    {
     "data": {
      "text/plain": [
       "<re.Match object; span=(2, 6), match='bana'>"
      ]
     },
     "execution_count": 25,
     "metadata": {},
     "output_type": "execute_result"
    }
   ],
   "source": [
    "re.search(r'b\\w+a', 'cabana')"
   ]
  },
  {
   "cell_type": "code",
   "execution_count": 26,
   "metadata": {
    "ExecuteTime": {
     "end_time": "2022-01-03T12:50:04.125934Z",
     "start_time": "2022-01-03T12:50:04.123282Z"
    }
   },
   "outputs": [],
   "source": [
    "re.search(r'^b\\w+a', 'cabana')"
   ]
  },
  {
   "cell_type": "code",
   "execution_count": 28,
   "metadata": {
    "ExecuteTime": {
     "end_time": "2022-01-03T12:52:03.179337Z",
     "start_time": "2022-01-03T12:52:03.175354Z"
    }
   },
   "outputs": [
    {
     "data": {
      "text/plain": [
       "<re.Match object; span=(2, 6), match='bana'>"
      ]
     },
     "execution_count": 28,
     "metadata": {},
     "output_type": "execute_result"
    }
   ],
   "source": [
    "re.search(r'b\\w+a$', 'cabana')"
   ]
  },
  {
   "cell_type": "markdown",
   "metadata": {},
   "source": [
    " #### **grouping**\n",
    "  - ()을 사용하여 그루핑\n",
    "  - 매칭 결과를 각 그룹별로 분리 가능\n",
    "  - 패턴 명시 할 때, 각 그룹을 괄호() 안에 넣어 분리하여 사용"
   ]
  },
  {
   "cell_type": "code",
   "execution_count": 33,
   "metadata": {
    "ExecuteTime": {
     "end_time": "2022-01-03T12:54:52.318186Z",
     "start_time": "2022-01-03T12:54:52.314598Z"
    }
   },
   "outputs": [
    {
     "name": "stdout",
     "output_type": "stream",
     "text": [
      "hey@naver.com\n",
      "hey\n",
      "naver.com\n"
     ]
    }
   ],
   "source": [
    "m = re.search(r'(\\w+)@(.+)', 'hey@naver.com')\n",
    "print(m.group())\n",
    "print(m.group(1))\n",
    "print(m.group(2))"
   ]
  },
  {
   "cell_type": "markdown",
   "metadata": {},
   "source": [
    " #### **{}**\n",
    "  - *, +, ?을 사용하여 반복적인 패턴을 찾는 것이 가능하나, 반복의 횟수 제한은 불가\n",
    "  - 패턴뒤에 위치하는 중괄호{}에 숫자를 명시하면 해당 숫자 만큼의 반복인 경우에만 매칭\n",
    "  - {4} - 4번 반복\n",
    "  - {3,4} - 3 ~ 4번 반복"
   ]
  },
  {
   "cell_type": "code",
   "execution_count": 34,
   "metadata": {
    "ExecuteTime": {
     "end_time": "2022-01-03T12:56:55.634419Z",
     "start_time": "2022-01-03T12:56:55.630101Z"
    }
   },
   "outputs": [
    {
     "data": {
      "text/plain": [
       "<re.Match object; span=(0, 5), match='piiig'>"
      ]
     },
     "execution_count": 34,
     "metadata": {},
     "output_type": "execute_result"
    }
   ],
   "source": [
    "re.search(r'pi{3}g', 'piiig')"
   ]
  },
  {
   "cell_type": "code",
   "execution_count": 35,
   "metadata": {
    "ExecuteTime": {
     "end_time": "2022-01-03T12:57:20.329822Z",
     "start_time": "2022-01-03T12:57:20.325737Z"
    }
   },
   "outputs": [
    {
     "data": {
      "text/plain": [
       "<re.Match object; span=(0, 6), match='piiiig'>"
      ]
     },
     "execution_count": 35,
     "metadata": {},
     "output_type": "execute_result"
    }
   ],
   "source": [
    "re.search(r'pi{3,5}g', 'piiiig')"
   ]
  },
  {
   "cell_type": "markdown",
   "metadata": {},
   "source": [
    "#### **미니멈 매칭(non-greedy way)**\n",
    " - 기본적으로 *, +, ?를 사용하면 greedy(맥시멈 매칭)하게 동작함\n",
    " - *?, +?을 이용하여 해당 기능을 구현"
   ]
  },
  {
   "cell_type": "code",
   "execution_count": 36,
   "metadata": {
    "ExecuteTime": {
     "end_time": "2022-01-03T12:58:15.287448Z",
     "start_time": "2022-01-03T12:58:15.281873Z"
    }
   },
   "outputs": [
    {
     "data": {
      "text/plain": [
       "<re.Match object; span=(0, 17), match='<http>naver<http>'>"
      ]
     },
     "execution_count": 36,
     "metadata": {},
     "output_type": "execute_result"
    }
   ],
   "source": [
    "re.search(r'<.+>', '<http>naver<http>')"
   ]
  },
  {
   "cell_type": "code",
   "execution_count": 37,
   "metadata": {
    "ExecuteTime": {
     "end_time": "2022-01-03T12:58:37.173884Z",
     "start_time": "2022-01-03T12:58:37.169542Z"
    }
   },
   "outputs": [
    {
     "data": {
      "text/plain": [
       "<re.Match object; span=(0, 6), match='<http>'>"
      ]
     },
     "execution_count": 37,
     "metadata": {},
     "output_type": "execute_result"
    }
   ],
   "source": [
    "re.search(r'<.+?>', '<http>naver<http>')"
   ]
  },
  {
   "cell_type": "markdown",
   "metadata": {},
   "source": [
    "#### **{}?**\n",
    " - {m,n}의 경우 m번 에서 n번 반복하나 greedy하게 동작\n",
    " - {m,n}?로 사용하면 non-greedy하게 동작. 즉, 최소 m번만 매칭하면 만족"
   ]
  },
  {
   "cell_type": "code",
   "execution_count": 38,
   "metadata": {
    "ExecuteTime": {
     "end_time": "2022-01-03T12:59:14.835663Z",
     "start_time": "2022-01-03T12:59:14.829993Z"
    }
   },
   "outputs": [
    {
     "data": {
      "text/plain": [
       "<re.Match object; span=(0, 3), match='aaa'>"
      ]
     },
     "execution_count": 38,
     "metadata": {},
     "output_type": "execute_result"
    }
   ],
   "source": [
    "re.search(r'a{3,5}', 'aaabbcc')"
   ]
  },
  {
   "cell_type": "code",
   "execution_count": 40,
   "metadata": {
    "ExecuteTime": {
     "end_time": "2022-01-03T12:59:37.446420Z",
     "start_time": "2022-01-03T12:59:37.442211Z"
    }
   },
   "outputs": [
    {
     "data": {
      "text/plain": [
       "<re.Match object; span=(0, 3), match='aaa'>"
      ]
     },
     "execution_count": 40,
     "metadata": {},
     "output_type": "execute_result"
    }
   ],
   "source": [
    "re.search(r'a{3,5}?', 'aaaaabbcc')"
   ]
  },
  {
   "cell_type": "markdown",
   "metadata": {},
   "source": [
    "#### **match**\n",
    " - search와 유사하나, 주어진 문자열의 시작부터 비교하여 패턴이 있는지 확인\n",
    " - 시작부터 해당 패턴이 존재하지 않다면 None 반환"
   ]
  },
  {
   "cell_type": "code",
   "execution_count": 41,
   "metadata": {
    "ExecuteTime": {
     "end_time": "2022-01-03T13:00:16.115704Z",
     "start_time": "2022-01-03T13:00:16.112155Z"
    }
   },
   "outputs": [],
   "source": [
    "re.match(r'\\d\\d\\d', 'number 999-00')"
   ]
  },
  {
   "cell_type": "code",
   "execution_count": 42,
   "metadata": {
    "ExecuteTime": {
     "end_time": "2022-01-03T13:00:37.776918Z",
     "start_time": "2022-01-03T13:00:37.772504Z"
    }
   },
   "outputs": [
    {
     "data": {
      "text/plain": [
       "<re.Match object; span=(0, 3), match='999'>"
      ]
     },
     "execution_count": 42,
     "metadata": {},
     "output_type": "execute_result"
    }
   ],
   "source": [
    "re.match(r'\\d\\d\\d', '999 number 00')"
   ]
  },
  {
   "cell_type": "code",
   "execution_count": 44,
   "metadata": {
    "ExecuteTime": {
     "end_time": "2022-01-03T13:01:01.980916Z",
     "start_time": "2022-01-03T13:01:01.974638Z"
    }
   },
   "outputs": [
    {
     "data": {
      "text/plain": [
       "<re.Match object; span=(0, 3), match='000'>"
      ]
     },
     "execution_count": 44,
     "metadata": {},
     "output_type": "execute_result"
    }
   ],
   "source": [
    "re.match(r'^\\d\\d\\d', '000 number 00')"
   ]
  },
  {
   "cell_type": "markdown",
   "metadata": {},
   "source": [
    "#### **findall**\n",
    " - search가 최초로 매칭되는 패턴만 반환한다면, findall은 매칭되는 전체의 패턴을 반환\n",
    " - 매칭되는 모든 결과를 리스트 형태로 반환"
   ]
  },
  {
   "cell_type": "code",
   "execution_count": 45,
   "metadata": {
    "ExecuteTime": {
     "end_time": "2022-01-03T13:02:41.452292Z",
     "start_time": "2022-01-03T13:02:41.444432Z"
    }
   },
   "outputs": [
    {
     "data": {
      "text/plain": [
       "['hey@naver.com', 'you@gmail.com']"
      ]
     },
     "execution_count": 45,
     "metadata": {},
     "output_type": "execute_result"
    }
   ],
   "source": [
    "re.findall(r'[\\w-]+@[\\w.]+','email : hey@naver.com , you@gmail.com')"
   ]
  },
  {
   "cell_type": "markdown",
   "metadata": {},
   "source": [
    "#### **sub**\n",
    " - 주어진 문자열에서 일치하는 모든 패턴을 replace\n",
    " - 그 결과를 문자열로 다시 반환함\n",
    " - 두번째 인자는 특정 문자열이 될 수도 있고, 함수가 될 수 도 있음\n",
    " - count가 0인 경우는 전체를, 1이상이면 해당 숫자만큼 치환 됨"
   ]
  },
  {
   "cell_type": "code",
   "execution_count": 46,
   "metadata": {
    "ExecuteTime": {
     "end_time": "2022-01-03T13:04:06.625117Z",
     "start_time": "2022-01-03T13:04:06.619316Z"
    }
   },
   "outputs": [
    {
     "data": {
      "text/plain": [
       "'email : EMAIL , EMAIL'"
      ]
     },
     "execution_count": 46,
     "metadata": {},
     "output_type": "execute_result"
    }
   ],
   "source": [
    "re.sub(r'[\\w-]+@[\\w.]+', 'EMAIL' ,'email : hey@naver.com , you@gmail.com')"
   ]
  },
  {
   "cell_type": "code",
   "execution_count": 47,
   "metadata": {
    "ExecuteTime": {
     "end_time": "2022-01-03T13:04:39.119137Z",
     "start_time": "2022-01-03T13:04:39.112334Z"
    }
   },
   "outputs": [
    {
     "data": {
      "text/plain": [
       "'email : EMAIL , you@gmail.com'"
      ]
     },
     "execution_count": 47,
     "metadata": {},
     "output_type": "execute_result"
    }
   ],
   "source": [
    "re.sub(r'[\\w-]+@[\\w.]+', 'EMAIL' ,'email : hey@naver.com , you@gmail.com', count=1)"
   ]
  },
  {
   "cell_type": "markdown",
   "metadata": {},
   "source": [
    "#### **compile**\n",
    " - 동일한 정규표현식을 매번 다시 쓰기 번거로움을 해결\n",
    " - compile로 해당표현식을 re.RegexObject 객체로 저장하여 사용가능"
   ]
  },
  {
   "cell_type": "code",
   "execution_count": 48,
   "metadata": {
    "ExecuteTime": {
     "end_time": "2022-01-03T13:06:03.278471Z",
     "start_time": "2022-01-03T13:06:03.272086Z"
    }
   },
   "outputs": [
    {
     "data": {
      "text/plain": [
       "<re.Match object; span=(0, 13), match='hey@naver.com'>"
      ]
     },
     "execution_count": 48,
     "metadata": {},
     "output_type": "execute_result"
    }
   ],
   "source": [
    "email_reg = re.compile(r'[\\w-]+@[\\w.]+')\n",
    "email_reg.search('hey@naver.com hahh')"
   ]
  }
 ],
 "metadata": {
  "kernelspec": {
   "display_name": "Python 3 (ipykernel)",
   "language": "python",
   "name": "python3"
  },
  "language_info": {
   "codemirror_mode": {
    "name": "ipython",
    "version": 3
   },
   "file_extension": ".py",
   "mimetype": "text/x-python",
   "name": "python",
   "nbconvert_exporter": "python",
   "pygments_lexer": "ipython3",
   "version": "3.8.12"
  },
  "toc": {
   "base_numbering": 1,
   "nav_menu": {},
   "number_sections": true,
   "sideBar": true,
   "skip_h1_title": false,
   "title_cell": "Table of Contents",
   "title_sidebar": "Contents",
   "toc_cell": false,
   "toc_position": {},
   "toc_section_display": true,
   "toc_window_display": false
  },
  "varInspector": {
   "cols": {
    "lenName": 16,
    "lenType": 16,
    "lenVar": 40
   },
   "kernels_config": {
    "python": {
     "delete_cmd_postfix": "",
     "delete_cmd_prefix": "del ",
     "library": "var_list.py",
     "varRefreshCmd": "print(var_dic_list())"
    },
    "r": {
     "delete_cmd_postfix": ") ",
     "delete_cmd_prefix": "rm(",
     "library": "var_list.r",
     "varRefreshCmd": "cat(var_dic_list()) "
    }
   },
   "types_to_exclude": [
    "module",
    "function",
    "builtin_function_or_method",
    "instance",
    "_Feature"
   ],
   "window_display": false
  }
 },
 "nbformat": 4,
 "nbformat_minor": 1
}
