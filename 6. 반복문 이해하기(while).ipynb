{
 "cells": [
  {
   "cell_type": "markdown",
   "metadata": {},
   "source": [
    "### loop (반복문)\n",
    " + 반복적인 작업을 가능하게 해주는 도구\n",
    " + 특정 조건을 만족하는 경우 수행할 수 있음 (while)\n",
    " + 리스트, 문자열, 튜플 등 컬렉션 타입의 아이템을 하나씩 순회하면서 사용 가능 (for)\n",
    " + 코드 작업에서, 가장 많이 사용하는 구문 중 하나\n",
    " + 주의할점: while을 사용할 경우, 반복을 멈추게 하는 장치가 필요\n",
    "   + 그렇지 않으면 셀이 무한히 수행되며, jupyter notebook의 재부팅이 필요"
   ]
  },
  {
   "cell_type": "markdown",
   "metadata": {},
   "source": [
    "#### while 키워드\n",
    "  - while 뒤의 조건이 True일 경우, while 코드 블록을 계속 수행\n",
    "  - while 코드 블록\n",
    "    - if와 마찬가지로 while문 아래의 들여쓰기로 작성 된 부분을 의미\n",
    "  - 조건이 False가 되면 블록 수행을 멈추고 이후 코드를 실행"
   ]
  },
  {
   "cell_type": "markdown",
   "metadata": {},
   "source": [
    "#### while 키워드 이용하여 리스트의 아이템 출력하기"
   ]
  },
  {
   "cell_type": "code",
   "execution_count": 1,
   "metadata": {
    "ExecuteTime": {
     "end_time": "2021-12-08T06:03:41.490895Z",
     "start_time": "2021-12-08T06:03:41.486614Z"
    }
   },
   "outputs": [],
   "source": [
    "a = [1, 2, 55, 45, 67, 34, 52, 16, 8]\n",
    "idx = 0\n",
    "sum_a = 0\n",
    "while idx < len(a) :\n",
    "    sum_a += a[idx]\n",
    "    idx += 1"
   ]
  },
  {
   "cell_type": "code",
   "execution_count": 2,
   "metadata": {
    "ExecuteTime": {
     "end_time": "2021-12-08T06:03:41.660797Z",
     "start_time": "2021-12-08T06:03:41.657424Z"
    }
   },
   "outputs": [
    {
     "name": "stdout",
     "output_type": "stream",
     "text": [
      "9 280\n"
     ]
    }
   ],
   "source": [
    "print(idx, sum_a)"
   ]
  },
  {
   "cell_type": "markdown",
   "metadata": {},
   "source": [
    "#### while 키워드 이용하여 리스트의 아이템 출력하기\n",
    " - 조건문과 함께 사용하기"
   ]
  },
  {
   "cell_type": "code",
   "execution_count": 3,
   "metadata": {
    "ExecuteTime": {
     "end_time": "2021-12-08T06:03:42.893282Z",
     "start_time": "2021-12-08T06:03:42.887716Z"
    }
   },
   "outputs": [
    {
     "name": "stdout",
     "output_type": "stream",
     "text": [
      "작다 작아\n",
      "작다 작아\n",
      "앞의 수보다 크다 커\n"
     ]
    }
   ],
   "source": [
    "a = [1, 2, 55, 45, 67, 34, 52, 16, 8]\n",
    "\n",
    "i = 0\n",
    "while i < len(a) :\n",
    "    if a[i] > a[i+1] :\n",
    "        print('앞의 수보다 크다 커')\n",
    "        break\n",
    "    else :\n",
    "        print('작다 작아')\n",
    "    i += 1"
   ]
  },
  {
   "cell_type": "markdown",
   "metadata": {},
   "source": [
    "#### 무한루프\n",
    " - while의 경우 종료가 되지 않도록 코드를 작성하면 블록에서 빠져나올 수 없음"
   ]
  },
  {
   "cell_type": "code",
   "execution_count": null,
   "metadata": {
    "ExecuteTime": {
     "end_time": "2021-12-08T06:03:31.806019Z",
     "start_time": "2021-12-08T06:03:27.630591Z"
    }
   },
   "outputs": [],
   "source": [
    "while True:\n",
    "    print(0)"
   ]
  },
  {
   "cell_type": "markdown",
   "metadata": {},
   "source": [
    "#### break \n",
    " + loop를 중단할 때 사용\n",
    " + 보통 조건문 안에서 수행되며, 조건을 만족하는 경우 loop를 탈출하기 위해 사용\n",
    " + loop를 중단 하는 경우, while 이후의 코드를 수행"
   ]
  },
  {
   "cell_type": "code",
   "execution_count": 4,
   "metadata": {
    "ExecuteTime": {
     "end_time": "2021-12-08T06:03:45.783357Z",
     "start_time": "2021-12-08T06:03:45.779053Z"
    }
   },
   "outputs": [
    {
     "name": "stdout",
     "output_type": "stream",
     "text": [
      "작다 작아\n",
      "작다 작아\n",
      "앞의 수보다 크다 커\n"
     ]
    }
   ],
   "source": [
    "a = [1, 2, 55, 45, 67, 34, 52, 16, 8]\n",
    "\n",
    "i = 0\n",
    "while i < len(a) :\n",
    "    if a[i] > a[i+1] :\n",
    "        print('앞의 수보다 크다 커')\n",
    "        break  # 조건 만족하면 중단\n",
    "    else :\n",
    "        print('작다 작아')\n",
    "    i += 1"
   ]
  },
  {
   "cell_type": "markdown",
   "metadata": {},
   "source": [
    "#### continue\n",
    " + break 처럼 반복을 중단하진 하여 빠져나오지 않고, 다시 while조건으로 점프함\n",
    " + 특정한 경우에는 코드를 수행하지 않고 다음으로 건너 뛰기 위해 사용"
   ]
  },
  {
   "cell_type": "code",
   "execution_count": 5,
   "metadata": {
    "ExecuteTime": {
     "end_time": "2021-12-08T06:03:48.589364Z",
     "start_time": "2021-12-08T06:03:48.586270Z"
    },
    "code_folding": []
   },
   "outputs": [
    {
     "name": "stdout",
     "output_type": "stream",
     "text": [
      "5\n",
      "4\n",
      "2\n",
      "1\n",
      "0\n"
     ]
    }
   ],
   "source": [
    "a =6\n",
    "while a > 0:\n",
    "    a -= 1\n",
    "    if a == 3 :\n",
    "        continue\n",
    "    print(a)"
   ]
  }
 ],
 "metadata": {
  "kernelspec": {
   "display_name": "Python 3",
   "language": "python",
   "name": "python3"
  },
  "language_info": {
   "codemirror_mode": {
    "name": "ipython",
    "version": 3
   },
   "file_extension": ".py",
   "mimetype": "text/x-python",
   "name": "python",
   "nbconvert_exporter": "python",
   "pygments_lexer": "ipython3",
   "version": "3.8.6"
  },
  "toc": {
   "base_numbering": 1,
   "nav_menu": {},
   "number_sections": true,
   "sideBar": true,
   "skip_h1_title": false,
   "title_cell": "Table of Contents",
   "title_sidebar": "Contents",
   "toc_cell": false,
   "toc_position": {},
   "toc_section_display": true,
   "toc_window_display": false
  },
  "varInspector": {
   "cols": {
    "lenName": 16,
    "lenType": 16,
    "lenVar": 40
   },
   "kernels_config": {
    "python": {
     "delete_cmd_postfix": "",
     "delete_cmd_prefix": "del ",
     "library": "var_list.py",
     "varRefreshCmd": "print(var_dic_list())"
    },
    "r": {
     "delete_cmd_postfix": ") ",
     "delete_cmd_prefix": "rm(",
     "library": "var_list.r",
     "varRefreshCmd": "cat(var_dic_list()) "
    }
   },
   "types_to_exclude": [
    "module",
    "function",
    "builtin_function_or_method",
    "instance",
    "_Feature"
   ],
   "window_display": false
  }
 },
 "nbformat": 4,
 "nbformat_minor": 1
}
